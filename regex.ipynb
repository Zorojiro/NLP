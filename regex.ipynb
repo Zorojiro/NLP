{
 "cells": [
  {
   "cell_type": "code",
   "execution_count": 1,
   "metadata": {},
   "outputs": [],
   "source": [
    "import re"
   ]
  },
  {
   "cell_type": "code",
   "execution_count": 106,
   "metadata": {},
   "outputs": [],
   "source": [
    "def matchFinder(match):\n",
    "    if match:\n",
    "        print(\"Match found at index:\", match.start())\n",
    "    else:\n",
    "        print(\"No match found\")"
   ]
  },
  {
   "cell_type": "code",
   "execution_count": 91,
   "metadata": {},
   "outputs": [],
   "source": [
    "def reMatcher(words, pat):\n",
    "    for word in words:\n",
    "        if re.search(pat, word):\n",
    "            print(\"Match found for:\", word)\n",
    "        else:\n",
    "            print(\"No match found for:\", word)"
   ]
  },
  {
   "cell_type": "markdown",
   "metadata": {},
   "source": [
    "Metacharacters in RegEx"
   ]
  },
  {
   "cell_type": "code",
   "execution_count": 4,
   "metadata": {},
   "outputs": [
    {
     "name": "stdout",
     "output_type": "stream",
     "text": [
      "13 - 23\n"
     ]
    }
   ],
   "source": [
    "str = \"create a new repository on the command line\"\n",
    "\n",
    "match = re.search(\"repository\",str)\n",
    "\n",
    "print(match.start(),\"-\",end=\" \")\n",
    "print(match.end())"
   ]
  },
  {
   "cell_type": "code",
   "execution_count": 8,
   "metadata": {},
   "outputs": [
    {
     "name": "stdout",
     "output_type": "stream",
     "text": [
      "<re.Match object; span=(0, 1), match='s'>\n",
      "<re.Match object; span=(7, 8), match='.'>\n"
     ]
    }
   ],
   "source": [
    "str1 = \"shubham.galande\"\n",
    "\n",
    "# here it matches with any char as per \".\" function in re\n",
    "match1 = re.search(r\".\", str1)\n",
    "print(match1)\n",
    "\n",
    "# here we inserted \\ for escaping the special effect of \".\"\n",
    "match2 = re.search(r\"\\.\", str1)\n",
    "print(match2)"
   ]
  },
  {
   "cell_type": "code",
   "execution_count": 14,
   "metadata": {},
   "outputs": [
    {
     "data": {
      "text/plain": [
       "['a',\n",
       " 'b',\n",
       " 'c',\n",
       " 'd',\n",
       " 'e',\n",
       " 'e',\n",
       " 'e',\n",
       " 'f',\n",
       " 'g',\n",
       " 'h',\n",
       " 'h',\n",
       " 'i',\n",
       " 'j',\n",
       " 'k',\n",
       " 'l',\n",
       " 'm']"
      ]
     },
     "execution_count": 14,
     "metadata": {},
     "output_type": "execute_result"
    }
   ],
   "source": [
    "string = \"The quick brown fox jumps over the lazy dog\"\n",
    "\n",
    "patern = \"[a-m]\"\n",
    "result = re.findall(pattern=patern, string=string)\n",
    "result.sort()\n",
    "result"
   ]
  },
  {
   "cell_type": "code",
   "execution_count": 22,
   "metadata": {},
   "outputs": [
    {
     "name": "stdout",
     "output_type": "stream",
     "text": [
      "Matched:The quick brown fox\n",
      "Matched:The lazy dog\n",
      "Not Matched:A quick brown fox\n"
     ]
    }
   ],
   "source": [
    "pat = r\"^The\"\n",
    "#this pattern should be matched from start\n",
    "\n",
    "strings = ['The quick brown fox', 'The lazy dog', 'A quick brown fox'] \n",
    "\n",
    "for string in strings:\n",
    "    if re.search(pat, string):\n",
    "        print(f\"Matched:{string}\")\n",
    "    else:\n",
    "        print(f\"Not Matched:{string}\")"
   ]
  },
  {
   "cell_type": "code",
   "execution_count": 21,
   "metadata": {},
   "outputs": [
    {
     "name": "stdout",
     "output_type": "stream",
     "text": [
      "Matched:The quick brown fox\n",
      "Not Matched:The lazy dog\n",
      "Matched:A quick brown fox\n"
     ]
    }
   ],
   "source": [
    "pat1 = r\"fox$\"\n",
    "\n",
    "for string in strings:\n",
    "    if re.search(pat1, string):\n",
    "        print(f\"Matched:{string}\")\n",
    "    else:\n",
    "        print(f\"Not Matched:{string}\")\n",
    "\n"
   ]
  },
  {
   "cell_type": "code",
   "execution_count": 40,
   "metadata": {},
   "outputs": [
    {
     "name": "stdout",
     "output_type": "stream",
     "text": [
      "Match Found !\n"
     ]
    }
   ],
   "source": [
    "string = \"The quick brown fox jumps over the lazy dog.\"\n",
    "pat = r\"brown.fox\"\n",
    "\n",
    "match = re.search(pat, string)\n",
    "\n",
    "matchFounder(match)"
   ]
  },
  {
   "cell_type": "code",
   "execution_count": 39,
   "metadata": {},
   "outputs": [
    {
     "name": "stdout",
     "output_type": "stream",
     "text": [
      "Match Found !\n"
     ]
    }
   ],
   "source": [
    "str = \"abbabbabbabaab\"\n",
    "\n",
    "pat = r\"bbab|aaba\"\n",
    "\n",
    "match = re.search(pat, str)\n",
    "\n",
    "matchFounder(match)\n",
    "\n"
   ]
  },
  {
   "cell_type": "code",
   "execution_count": 38,
   "metadata": {},
   "outputs": [
    {
     "name": "stdout",
     "output_type": "stream",
     "text": [
      "Match Found !\n"
     ]
    }
   ],
   "source": [
    "str = \"abbabbabbabaab\"\n",
    "\n",
    "pat = r\"ab?a\"\n",
    "\n",
    "match = re.search(pat, str)\n",
    "\n",
    "matchFounder(match)\n",
    "\n"
   ]
  },
  {
   "cell_type": "code",
   "execution_count": 37,
   "metadata": {},
   "outputs": [
    {
     "name": "stdout",
     "output_type": "stream",
     "text": [
      "Match Found !\n",
      "Match Found !\n"
     ]
    }
   ],
   "source": [
    "str1 = \"a\"\n",
    "str2 = \"aababbabbbabbbb\"\n",
    "\n",
    "pat = r\"ab*\"\n",
    "\n",
    "match1 = re.search(pat, str1)\n",
    "match2 = re.search(pat, str2)\n",
    "\n",
    "matchFounder(match1)\n",
    "matchFounder(match2)"
   ]
  },
  {
   "cell_type": "code",
   "execution_count": 36,
   "metadata": {},
   "outputs": [
    {
     "name": "stdout",
     "output_type": "stream",
     "text": [
      "Match not found\n",
      "Match Found !\n"
     ]
    }
   ],
   "source": [
    "str1 = \"a\"\n",
    "str2 = \"aababbabbbabbbb\"\n",
    "\n",
    "pat = r\"ab+\"\n",
    "\n",
    "match1 = re.search(pat, str1)\n",
    "match2 = re.search(pat, str2)\n",
    "\n",
    "matchFounder(match1)\n",
    "matchFounder(match2)\n"
   ]
  },
  {
   "cell_type": "code",
   "execution_count": 59,
   "metadata": {},
   "outputs": [
    {
     "name": "stdout",
     "output_type": "stream",
     "text": [
      "No match found\n",
      "Match found at index: 6\n"
     ]
    }
   ],
   "source": [
    "str1 = \"aababb\"\n",
    "str2 = \"aababbabbbabbbb\"\n",
    "\n",
    "pat = r\"ab{3,4}\"\n",
    "\n",
    "match1 = re.search(pat, str1)\n",
    "match2 = re.search(pat, str2)\n",
    "\n",
    "matchFounder(match1)\n",
    "matchFounder(match2)"
   ]
  },
  {
   "cell_type": "code",
   "execution_count": 43,
   "metadata": {},
   "outputs": [
    {
     "name": "stdout",
     "output_type": "stream",
     "text": [
      "Match Found !\n",
      "Match Found !\n"
     ]
    }
   ],
   "source": [
    "str1 = \"a\"\n",
    "str2 = \"aababbabbbabbbb\"\n",
    "\n",
    "pat = r\"(ab{3,4})|a|c\"\n",
    "\n",
    "match1 = re.search(pat, str1)\n",
    "match2 = re.search(pat, str2)\n",
    "\n",
    "matchFounder(match1)\n",
    "matchFounder(match2)"
   ]
  },
  {
   "cell_type": "markdown",
   "metadata": {},
   "source": [
    "Special Sequences"
   ]
  },
  {
   "cell_type": "code",
   "execution_count": 60,
   "metadata": {},
   "outputs": [
    {
     "name": "stdout",
     "output_type": "stream",
     "text": [
      "No match found\n",
      "Match found at index: 0\n"
     ]
    }
   ],
   "source": [
    "str1 = \"aaa\"\n",
    "str2 = \"Aababbabbbabbbb\"\n",
    "\n",
    "# Matches if the string begins with the given character\n",
    "\n",
    "pat = r\"\\AAab\"\n",
    "\n",
    "match1 = re.search(pat, str1)\n",
    "match2 = re.search(pat, str2)\n",
    "\n",
    "matchFounder(match1)\n",
    "matchFounder(match2)"
   ]
  },
  {
   "cell_type": "code",
   "execution_count": 100,
   "metadata": {},
   "outputs": [
    {
     "name": "stdout",
     "output_type": "stream",
     "text": [
      "Match found for: beer\n",
      "No match found for: apple\n",
      "Match found for: beergill\n",
      "No match found for: bbe\n"
     ]
    }
   ],
   "source": [
    "words = [\"beer\", \"apple\", \"beergill\", \"bbe\"]\n",
    "\n",
    "# Matches if the word begins or ends with the given character. \\b(string) will check for the beginning of the word and (string)\\b will check for the ending of the word.\n",
    "\n",
    "pat = r\"\\bbe\"\n",
    "\n",
    "reMatcher(words, pat)\n"
   ]
  },
  {
   "cell_type": "code",
   "execution_count": 99,
   "metadata": {},
   "outputs": [
    {
     "name": "stdout",
     "output_type": "stream",
     "text": [
      "No match found for: beer\n",
      "No match found for: apple\n",
      "No match found for: beergill\n",
      "No match found for: bbe\n"
     ]
    }
   ],
   "source": [
    "words = [\"beer\", \"apple\", \"beergill\", \"bbe\"]\n",
    "\n",
    "#opposite of \\b\n",
    "\n",
    "pat = r\"\\Ba\"\n",
    "\n",
    "reMatcher(words, pat)"
   ]
  },
  {
   "cell_type": "code",
   "execution_count": 98,
   "metadata": {},
   "outputs": [
    {
     "name": "stdout",
     "output_type": "stream",
     "text": [
      "No match found for: beer\n",
      "Match found for: app4e\n",
      "Match found for: beer2ill\n",
      "No match found for: bbe\n"
     ]
    }
   ],
   "source": [
    "words = [\"beer\", \"app4e\", \"beer2ill\", \"bbe\"]\n",
    "\n",
    "#Matches any decimal digit, this is equivalent to the set class [0-9]\n",
    "\n",
    "pat = r\"\\d\"\n",
    "\n",
    "reMatcher(words, pat)"
   ]
  },
  {
   "cell_type": "code",
   "execution_count": 97,
   "metadata": {},
   "outputs": [
    {
     "name": "stdout",
     "output_type": "stream",
     "text": [
      "Match found for: beer\n",
      "No match found for: 5\n",
      "Match found for: beer2ill\n",
      "Match found for: bbe\n"
     ]
    }
   ],
   "source": [
    "words = [\"beer\", \"5\", \"beer2ill\", \"bbe\"]\n",
    "#opposite of \\d\n",
    "pat = r\"\\D\"\n",
    "\n",
    "reMatcher(words, pat)"
   ]
  },
  {
   "cell_type": "code",
   "execution_count": 96,
   "metadata": {},
   "outputs": [
    {
     "name": "stdout",
     "output_type": "stream",
     "text": [
      "Match found for: be\ter\n",
      "Match found for: a pple\n",
      "Match found for: beergi\n",
      "ll\n",
      "No match found for: bbe\n"
     ]
    }
   ],
   "source": [
    "words = [\"be\\ter\", \"a pple\", \"beergi\\nll\", \"bbe\"]\n",
    "\n",
    "#\tMatches any whitespace character.\n",
    "pat = r\"\\s\"\n",
    "\n",
    "reMatcher(words, pat)"
   ]
  },
  {
   "cell_type": "code",
   "execution_count": 95,
   "metadata": {},
   "outputs": [
    {
     "name": "stdout",
     "output_type": "stream",
     "text": [
      "Match found for: be\ter\n",
      "No match found for:  \n",
      "Match found for: beergi\n",
      "ll\n",
      "Match found for: bbe\n"
     ]
    }
   ],
   "source": [
    "words = [\"be\\ter\", \" \", \"beergi\\nll\", \"bbe\"]\n",
    "\n",
    "#\tMatches any non-whitespace character.\n",
    "pat = r\"\\S\"\n",
    "\n",
    "reMatcher(words, pat)"
   ]
  },
  {
   "cell_type": "code",
   "execution_count": 94,
   "metadata": {},
   "outputs": [
    {
     "name": "stdout",
     "output_type": "stream",
     "text": [
      "Match found for: beer\n",
      "Match found for: apple\n",
      "No match found for: $%\n",
      "Match found for: bbe\n"
     ]
    }
   ],
   "source": [
    "words = [\"beer\", \"apple\", \"$%\", \"bbe\"]\n",
    "\n",
    "#Matches any alphanumeric character, this is equivalent to the class [a-zA-Z0-9_].\n",
    "\n",
    "pat = r\"\\w\"\n",
    "\n",
    "reMatcher(words, pat)"
   ]
  },
  {
   "cell_type": "code",
   "execution_count": 93,
   "metadata": {},
   "outputs": [
    {
     "name": "stdout",
     "output_type": "stream",
     "text": [
      "No match found for: beer\n",
      "No match found for: apple\n",
      "Match found for: $%\n",
      "No match found for: bbe\n"
     ]
    }
   ],
   "source": [
    "words = [\"beer\", \"apple\", \"$%\", \"bbe\"]\n",
    "\n",
    "# opposite of \\w\n",
    "pat = r\"\\W\"\n",
    "\n",
    "reMatcher(words, pat)"
   ]
  },
  {
   "cell_type": "code",
   "execution_count": 92,
   "metadata": {},
   "outputs": [
    {
     "name": "stdout",
     "output_type": "stream",
     "text": [
      "No match found for: beer\n",
      "Match found for: apple\n",
      "Match found for: bentle\n",
      "No match found for: bbe\n"
     ]
    }
   ],
   "source": [
    "words = [\"beer\", \"apple\", \"bentle\", \"bbe\"]\n",
    "#Matches if the string ends with the given regex\n",
    "\n",
    "pat = r\"le\\Z\"\n",
    "\n",
    "reMatcher(words, pat)"
   ]
  },
  {
   "cell_type": "markdown",
   "metadata": {},
   "source": [
    "RegEx Functions\n"
   ]
  },
  {
   "cell_type": "code",
   "execution_count": 115,
   "metadata": {},
   "outputs": [
    {
     "data": {
      "text/plain": [
       "['9876543210']"
      ]
     },
     "execution_count": 115,
     "metadata": {},
     "output_type": "execute_result"
    }
   ],
   "source": [
    "import re\n",
    "\n",
    "string = \"\"\"Hello my Number is 1234567890 and \n",
    "            my friend's number is 9876543210\"\"\"\n",
    "\n",
    "pat = r\"\\b[7-9]\\d{9}\"  # Corrected pattern\n",
    "\n",
    "match = re.findall(pat, string)\n",
    "match\n"
   ]
  },
  {
   "cell_type": "code",
   "execution_count": 117,
   "metadata": {},
   "outputs": [
    {
     "name": "stdout",
     "output_type": "stream",
     "text": [
      "['e', 'a', 'd', 'b', 'e', 'a']\n",
      "['1', '1', '4', '1', '8', '8', '6']\n",
      "['11', '4', '1886']\n"
     ]
    }
   ],
   "source": [
    "\"\"\"Regular expressions are compiled into pattern objects, \n",
    "which have methods for various operations \n",
    "such as searching for pattern matches or \n",
    "performing string substitutions. \"\"\"\n",
    "\n",
    "p = re.compile('[a-e]') \n",
    "  \n",
    "print(p.findall(\"Aye, said Mr. Gibenson Stark\")) \n",
    "\n",
    "p1 = re.compile('\\d') \n",
    "print(p1.findall(\"I went to him at 11 A.M. on 4th July 1886\")) \n",
    "  \n",
    "p2 = re.compile('\\d+') \n",
    "print(p2.findall(\"I went to him at 11 A.M. on 4th July 1886\")) "
   ]
  },
  {
   "cell_type": "markdown",
   "metadata": {},
   "source": [
    " re.split(pattern, string, maxsplit=0, flags=0)\n",
    " \n",
    " If maxsplit = 1, then the string will split once only, resulting in a list of length 2. The flags are very useful and can help to shorten code, they are not necessary parameters, eg: flags = re.IGNORECASE, in this split, the case, i.e. the lowercase or the uppercase will be ignored."
   ]
  },
  {
   "cell_type": "code",
   "execution_count": 119,
   "metadata": {},
   "outputs": [
    {
     "name": "stdout",
     "output_type": "stream",
     "text": [
      "['Words', 'words', 'Words']\n",
      "['Word', 's', 'words', 'Words']\n",
      "['On', '12th', 'Jan', '2016', 'at', '11', '02', 'AM']\n",
      "['On ', 'th Jan ', ', at ', ':', ' AM']\n",
      "['On ', 'th Jan 2016, at 11:02 AM']\n",
      "['', 'y, ', 'oy oh ', 'oy, ', 'om', ' h', 'r', '']\n",
      "['A', 'y, Boy oh ', 'oy, ', 'om', ' h', 'r', '']\n"
     ]
    }
   ],
   "source": [
    "from re import split \n",
    "  \n",
    "print(split('\\W+', 'Words, words , Words')) \n",
    "print(split('\\W+', \"Word's words Words\")) \n",
    "print(split('\\W+', 'On 12th Jan 2016, at 11:02 AM')) \n",
    "print(split('\\d+', 'On 12th Jan 2016, at 11:02 AM')) \n",
    "\n",
    "print(re.split('\\d+', 'On 12th Jan 2016, at 11:02 AM', 1)) \n",
    "print(re.split('[a-f]+', 'Aey, Boy oh boy, come here', flags=re.IGNORECASE)) \n",
    "print(re.split('[a-f]+', 'Aey, Boy oh boy, come here')) "
   ]
  },
  {
   "cell_type": "markdown",
   "metadata": {},
   "source": [
    "4. re.sub() \n",
    "\n",
    "The ‘sub’ in the function stands for SubString, a certain regular expression pattern is searched in the given string(3rd parameter), and upon finding the substring pattern is replaced by repl(2nd parameter), count checks and maintains the number of times this occurs. "
   ]
  },
  {
   "cell_type": "code",
   "execution_count": 120,
   "metadata": {},
   "outputs": [
    {
     "name": "stdout",
     "output_type": "stream",
     "text": [
      "S~*ject has ~*er booked already\n",
      "S~*ject has Uber booked already\n",
      "S~*ject has Uber booked already\n",
      "Baked Beans & Spam\n"
     ]
    }
   ],
   "source": [
    "print(re.sub('ub', '~*', 'Subject has Uber booked already',  \n",
    "             flags=re.IGNORECASE)) \n",
    "\n",
    "print(re.sub('ub', '~*', 'Subject has Uber booked already')) \n",
    "\n",
    "print(re.sub('ub', '~*', 'Subject has Uber booked already', \n",
    "             count=1, flags=re.IGNORECASE)) \n",
    "\n",
    "print(re.sub(r'\\sAND\\s', ' & ', 'Baked Beans And Spam',  \n",
    "             flags=re.IGNORECASE)) "
   ]
  },
  {
   "cell_type": "markdown",
   "metadata": {},
   "source": [
    "re.subn() replaces all occurrences of a pattern in a string and returns a tuple with the modified string and the count of substitutions made. It’s useful for both case-sensitive and case-insensitive substitutions."
   ]
  },
  {
   "cell_type": "code",
   "execution_count": 121,
   "metadata": {},
   "outputs": [
    {
     "name": "stdout",
     "output_type": "stream",
     "text": [
      "('S~*ject has Uber booked already', 1)\n",
      "('S~*ject has ~*er booked already', 2)\n",
      "2\n",
      "S~*ject has ~*er booked already\n"
     ]
    }
   ],
   "source": [
    "print(re.subn('ub', '~*', 'Subject has Uber booked already')) \n",
    "  \n",
    "t = re.subn('ub', '~*', 'Subject has Uber booked already', \n",
    "            flags=re.IGNORECASE) \n",
    "print(t) \n",
    "print(len(t)) \n",
    "print(t[0]) "
   ]
  },
  {
   "cell_type": "code",
   "execution_count": 122,
   "metadata": {},
   "outputs": [
    {
     "name": "stdout",
     "output_type": "stream",
     "text": [
      "This\\ is\\ Awesome\\ even\\ 1\\ AM\n",
      "I\\ Asked\\ what\\ is\\ this\\ \\[a\\-9\\],\\ he\\ said\\ \\\t\\ \\^WoW\n"
     ]
    }
   ],
   "source": [
    "print(re.escape(\"This is Awesome even 1 AM\")) \n",
    "print(re.escape(\"I Asked what is this [a-9], he said \\t ^WoW\")) "
   ]
  },
  {
   "cell_type": "markdown",
   "metadata": {},
   "source": [
    "7. re.search()\n",
    "\n",
    "This method either returns None (if the pattern doesn’t match), or a re.MatchObject contains information about the matching part of the string. This method stops after the first match, so this is best suited for testing a regular expression more than extracting data."
   ]
  },
  {
   "cell_type": "markdown",
   "metadata": {},
   "source": [
    "#\n",
    "SETS"
   ]
  },
  {
   "cell_type": "code",
   "execution_count": 125,
   "metadata": {},
   "outputs": [
    {
     "name": "stdout",
     "output_type": "stream",
     "text": [
      "re.compile('\\\\bh')\n",
      "hello my name is shubham\n"
     ]
    }
   ],
   "source": [
    "s = \"hello my name is shubham\"\n",
    "res = re.search(r\"\\bh\", s) \n",
    "  \n",
    "print(res.re) \n",
    "print(res.string)"
   ]
  },
  {
   "cell_type": "code",
   "execution_count": 129,
   "metadata": {},
   "outputs": [
    {
     "name": "stdout",
     "output_type": "stream",
     "text": [
      "17\n",
      "19\n",
      "(17, 19)\n",
      "sh\n"
     ]
    }
   ],
   "source": [
    "s = \"hello my name is shubham\"\n",
    "  \n",
    "res = re.search(r\"\\bsh\", s) \n",
    "  \n",
    "print(res.start()) \n",
    "print(res.end()) \n",
    "print(res.span())\n",
    "\n",
    "print(res.group())"
   ]
  }
 ],
 "metadata": {
  "kernelspec": {
   "display_name": "Python 3",
   "language": "python",
   "name": "python3"
  },
  "language_info": {
   "codemirror_mode": {
    "name": "ipython",
    "version": 3
   },
   "file_extension": ".py",
   "mimetype": "text/x-python",
   "name": "python",
   "nbconvert_exporter": "python",
   "pygments_lexer": "ipython3",
   "version": "3.11.8"
  }
 },
 "nbformat": 4,
 "nbformat_minor": 2
}
