{
 "cells": [
  {
   "cell_type": "code",
   "execution_count": 1,
   "metadata": {},
   "outputs": [],
   "source": [
    "import re"
   ]
  },
  {
   "cell_type": "code",
   "execution_count": 4,
   "metadata": {},
   "outputs": [
    {
     "name": "stdout",
     "output_type": "stream",
     "text": [
      "13 - 23\n"
     ]
    }
   ],
   "source": [
    "str = \"create a new repository on the command line\"\n",
    "\n",
    "match = re.search(\"repository\",str)\n",
    "\n",
    "print(match.start(),\"-\",end=\" \")\n",
    "print(match.end())"
   ]
  },
  {
   "cell_type": "code",
   "execution_count": 8,
   "metadata": {},
   "outputs": [
    {
     "name": "stdout",
     "output_type": "stream",
     "text": [
      "<re.Match object; span=(0, 1), match='s'>\n",
      "<re.Match object; span=(7, 8), match='.'>\n"
     ]
    }
   ],
   "source": [
    "str1 = \"shubham.galande\"\n",
    "\n",
    "# here it matches with any char as per \".\" function in re\n",
    "match1 = re.search(r\".\", str1)\n",
    "print(match1)\n",
    "\n",
    "# here we inserted \\ for escaping the special effect of \".\"\n",
    "match2 = re.search(r\"\\.\", str1)\n",
    "print(match2)"
   ]
  },
  {
   "cell_type": "code",
   "execution_count": 14,
   "metadata": {},
   "outputs": [
    {
     "data": {
      "text/plain": [
       "['a',\n",
       " 'b',\n",
       " 'c',\n",
       " 'd',\n",
       " 'e',\n",
       " 'e',\n",
       " 'e',\n",
       " 'f',\n",
       " 'g',\n",
       " 'h',\n",
       " 'h',\n",
       " 'i',\n",
       " 'j',\n",
       " 'k',\n",
       " 'l',\n",
       " 'm']"
      ]
     },
     "execution_count": 14,
     "metadata": {},
     "output_type": "execute_result"
    }
   ],
   "source": [
    "string = \"The quick brown fox jumps over the lazy dog\"\n",
    "\n",
    "patern = \"[a-m]\"\n",
    "result = re.findall(pattern=patern, string=string)\n",
    "result.sort()\n",
    "result"
   ]
  },
  {
   "cell_type": "code",
   "execution_count": 22,
   "metadata": {},
   "outputs": [
    {
     "name": "stdout",
     "output_type": "stream",
     "text": [
      "Matched:The quick brown fox\n",
      "Matched:The lazy dog\n",
      "Not Matched:A quick brown fox\n"
     ]
    }
   ],
   "source": [
    "pat = r\"^The\"\n",
    "#this pattern should be matched from start\n",
    "\n",
    "strings = ['The quick brown fox', 'The lazy dog', 'A quick brown fox'] \n",
    "\n",
    "for string in strings:\n",
    "    if re.search(pat, string):\n",
    "        print(f\"Matched:{string}\")\n",
    "    else:\n",
    "        print(f\"Not Matched:{string}\")"
   ]
  },
  {
   "cell_type": "code",
   "execution_count": 21,
   "metadata": {},
   "outputs": [
    {
     "name": "stdout",
     "output_type": "stream",
     "text": [
      "Matched:The quick brown fox\n",
      "Not Matched:The lazy dog\n",
      "Matched:A quick brown fox\n"
     ]
    }
   ],
   "source": [
    "pat1 = r\"fox$\"\n",
    "\n",
    "for string in strings:\n",
    "    if re.search(pat1, string):\n",
    "        print(f\"Matched:{string}\")\n",
    "    else:\n",
    "        print(f\"Not Matched:{string}\")\n",
    "\n"
   ]
  },
  {
   "cell_type": "code",
   "execution_count": 24,
   "metadata": {},
   "outputs": [
    {
     "name": "stdout",
     "output_type": "stream",
     "text": [
      "Match Found !\n"
     ]
    }
   ],
   "source": [
    "string = \"The quick brown fox jumps over the lazy dog.\"\n",
    "pat = r\"brown.fox\"\n",
    "\n",
    "match = re.search(pat, string)\n",
    "\n",
    "if match:\n",
    "    print(\"Match Found !\")\n",
    "else:\n",
    "    print(\"Match not found\")"
   ]
  },
  {
   "cell_type": "code",
   "execution_count": null,
   "metadata": {},
   "outputs": [],
   "source": []
  },
  {
   "cell_type": "markdown",
   "metadata": {},
   "source": []
  }
 ],
 "metadata": {
  "kernelspec": {
   "display_name": "Python 3",
   "language": "python",
   "name": "python3"
  },
  "language_info": {
   "codemirror_mode": {
    "name": "ipython",
    "version": 3
   },
   "file_extension": ".py",
   "mimetype": "text/x-python",
   "name": "python",
   "nbconvert_exporter": "python",
   "pygments_lexer": "ipython3",
   "version": "3.11.8"
  }
 },
 "nbformat": 4,
 "nbformat_minor": 2
}
